{
 "cells": [
  {
   "cell_type": "markdown",
   "metadata": {},
   "source": [
    "# Practical Python Page\n",
    "This notebook will hopefully provide a bit of a background resource for anyone new to python.  I hope this helps folks understand what's happening in our in-class projects!\n",
    "\n",
    "Надеюсь, что эта тетрадь послужит небольшим справочным материалом для тех, кто только начинает изучать python.  Я надеюсь, что это поможет людям понять, что происходит в наших проектах в классе!\n",
    "\n",
    "## Types of Variables\n",
    "In python, there are three major types of variables we will work with.  These are floats (numbers with decimals), ints (integers), and strings (words).  Let's say we know we are going to be using the speed of light in some calculations.  We can define a variable 'c' to be equal to the speed of light in $\\mu$m/s, i.e. 3.0$\\times10^{14}$ using code:\n",
    "\n",
    "## Типы переменных\n",
    "В python есть три основных типа переменных, с которыми мы будем работать.  Это float (числа с десятичными знаками), ints (целые числа) и strings (слова).  Допустим, мы знаем, что будем использовать скорость света в некоторых расчетах.  Мы можем определить переменную 'c' равной скорости света в $\\mu$м/с, т.е. 3.0$\\times10^{14}$, используя код:\n",
    "\n"
   ]
  },
  {
   "cell_type": "code",
   "execution_count": 2,
   "metadata": {
    "ExecuteTime": {
     "end_time": "2023-02-21T17:21:35.364390Z",
     "start_time": "2023-02-21T17:21:35.355070Z"
    }
   },
   "outputs": [
    {
     "data": {
      "text/plain": [
       "300000000000000.0"
      ]
     },
     "execution_count": 2,
     "metadata": {},
     "output_type": "execute_result"
    }
   ],
   "source": [
    "c = 3 * 1*10**14\n",
    "c = 3.0E14\n",
    "c\n"
   ]
  },
  {
   "cell_type": "markdown",
   "metadata": {},
   "source": [
    "Python will store the speed of light so we can use it later in our code!  For example, if I wanted to calculate the frequency of 24.0 micron light, we could call on that variable with code:\n",
    "\n",
    "Python сохранит скорость света, чтобы мы могли использовать ее позже в нашем коде!  Например, если бы я хотел вычислить частоту света 24,0 микрона, мы могли бы обратиться к этой переменной с помощью кода:"
   ]
  },
  {
   "cell_type": "code",
   "execution_count": 3,
   "metadata": {
    "ExecuteTime": {
     "end_time": "2023-02-21T17:21:35.889417Z",
     "start_time": "2023-02-21T17:21:35.884786Z"
    }
   },
   "outputs": [
    {
     "name": "stdout",
     "output_type": "stream",
     "text": [
      "12500000000000.0\n"
     ]
    }
   ],
   "source": [
    "nu = c / 24.0\n",
    "print(nu)"
   ]
  },
  {
   "cell_type": "markdown",
   "metadata": {},
   "source": [
    "We can also make variables that are words, or strings.  We will often use these to store filenames.  To specify we are working with a string, we will need to list the string inside quotation marks.  For example, if we are working with a file called test.txt, we could define a new variable called filename:\n",
    "\n",
    "Мы также можем создавать переменные, которые являются словами или строками.  Мы часто используем их для хранения имен файлов.  Чтобы указать, что мы работаем со строкой, нужно заключить строку в кавычки.  Например, если мы работаем с файлом test.txt, мы можем определить новую переменную под названием filename:"
   ]
  },
  {
   "cell_type": "code",
   "execution_count": 4,
   "metadata": {
    "ExecuteTime": {
     "end_time": "2023-02-21T17:21:36.749132Z",
     "start_time": "2023-02-21T17:21:36.746603Z"
    }
   },
   "outputs": [
    {
     "name": "stdout",
     "output_type": "stream",
     "text": [
      "test.txt\n"
     ]
    }
   ],
   "source": [
    "filename = 'test.txt'\n",
    "print(filename)"
   ]
  },
  {
   "cell_type": "markdown",
   "metadata": {},
   "source": [
    "Which will be stored and we can use later.  The columns of the files we will be working with will also be stored as strings, and need the quotation marks around their names to work.  \n",
    "\n",
    "Эта переменная будет сохранена, и мы сможем использовать её позже.  Колонки файлов, с которыми мы будем работать, также будут храниться в виде строк, и для работы им необходимы кавычки вокруг их имен.  "
   ]
  },
  {
   "cell_type": "markdown",
   "metadata": {},
   "source": [
    "A slightly funky python math thing is how python uses a double-asterix (**) to indicate raising something to a power.  So, no carots (^).  For example, 2^4 is:\n",
    "\n",
    "Немного забавная математическая особенность Python заключается в том, что Python использует двойной астерикс (**) для обозначения возведения чего-либо в степень.  Таким образом, никаких галочек (^).  Например, 2^4 - это:"
   ]
  },
  {
   "cell_type": "code",
   "execution_count": 5,
   "metadata": {
    "ExecuteTime": {
     "end_time": "2023-02-21T17:21:38.336156Z",
     "start_time": "2023-02-21T17:21:38.331783Z"
    }
   },
   "outputs": [
    {
     "data": {
      "text/plain": [
       "16"
      ]
     },
     "execution_count": 5,
     "metadata": {},
     "output_type": "execute_result"
    }
   ],
   "source": [
    "2**4"
   ]
  },
  {
   "cell_type": "markdown",
   "metadata": {},
   "source": [
    "## Lists and Arrays"
   ]
  },
  {
   "cell_type": "markdown",
   "metadata": {},
   "source": [
    "Often, we don't just want to store one float or string, but a bunch of them in one place.  We can do that using arrays.  For example, here's an array I made using numpy of the numbers 1-10 which I have named l1:\n",
    "\n",
    "## Списки и массивы\n",
    "Часто мы хотим хранить не просто одно плавающее число или строку, а их множество в одном месте.  Мы можем сделать это с помощью массивов.  Например, вот массив, который я создал с помощью numpy из чисел 1-10, который я назвал l1:"
   ]
  },
  {
   "cell_type": "code",
   "execution_count": 6,
   "metadata": {
    "ExecuteTime": {
     "end_time": "2023-02-21T17:21:39.999947Z",
     "start_time": "2023-02-21T17:21:39.997521Z"
    }
   },
   "outputs": [],
   "source": [
    "import numpy as np\n",
    "l1 = np.array([1.,2.,3.,4.,5.,6.,7.,8.,9.,10.])"
   ]
  },
  {
   "cell_type": "markdown",
   "metadata": {},
   "source": [
    "We can now do all kinds of neat things to all the values in this list.  For example, if I wanted a new list that was all the values in this list multiplied by 5, I could write a new list l2 using the code:\n",
    "\n",
    "Теперь мы можем делать разные хитрые вещи со всеми значениями в этом списке.  Например, если бы я хотел получить новый список, состоящий из всех значений этого списка, умноженных на 5, я мог бы написать новый список l2, используя код:"
   ]
  },
  {
   "cell_type": "code",
   "execution_count": null,
   "metadata": {},
   "outputs": [],
   "source": []
  },
  {
   "cell_type": "code",
   "execution_count": 7,
   "metadata": {
    "ExecuteTime": {
     "end_time": "2023-02-21T17:21:41.348446Z",
     "start_time": "2023-02-21T17:21:41.345525Z"
    }
   },
   "outputs": [
    {
     "name": "stdout",
     "output_type": "stream",
     "text": [
      "[ 5. 10. 15. 20. 25. 30. 35. 40. 45. 50.]\n"
     ]
    }
   ],
   "source": [
    "l2 = l1*5.0\n",
    "print(l2)"
   ]
  },
  {
   "cell_type": "markdown",
   "metadata": {},
   "source": [
    "Or, if we want a new array with only the values greater than 5, we can do that with code:\n",
    "\n",
    "Или, если мы хотим получить новый массив, содержащий только значения больше 5, мы можем сделать это с помощью кода:"
   ]
  },
  {
   "cell_type": "code",
   "execution_count": 18,
   "metadata": {
    "ExecuteTime": {
     "end_time": "2023-02-21T17:23:09.537697Z",
     "start_time": "2023-02-21T17:23:09.534107Z"
    }
   },
   "outputs": [],
   "source": [
    "# l1>5.0\n",
    "# import numpy as np\n",
    "# l3 = l1[l1>5.0]\n",
    "# print(l3)\n",
    "\n",
    "# l2 = l1[::-1]\n",
    "# l2\n",
    "order = np.argsort(l2)\n",
    "order\n",
    "l3 = l2[order]\n",
    "# l3"
   ]
  },
  {
   "cell_type": "markdown",
   "metadata": {},
   "source": [
    "In words, in the code above, I told python to make a new array called l3 that takes all the values from within l1 where the statement value > 5 is true.  \n",
    "\n",
    "Другими словами, в приведенном выше коде я сказал python создать новый массив под названием l3, который принимает все значения из l1, где утверждение value > 5 является истинным.  "
   ]
  },
  {
   "cell_type": "markdown",
   "metadata": {},
   "source": [
    "We can also pull single values from this array.  Let's say we want to work with the fifth value in our l2 array.  We can do that using the code:\n",
    "\n",
    "Мы также можем извлекать отдельные значения из этого массива.  Допустим, мы хотим работать с пятым значением в нашем массиве l2.  Мы можем сделать это с помощью кода:"
   ]
  },
  {
   "cell_type": "code",
   "execution_count": 19,
   "metadata": {
    "ExecuteTime": {
     "end_time": "2023-02-21T17:25:12.611467Z",
     "start_time": "2023-02-21T17:25:12.606942Z"
    }
   },
   "outputs": [
    {
     "name": "stdout",
     "output_type": "stream",
     "text": [
      "6.0\n"
     ]
    }
   ],
   "source": [
    "x = l2[4]\n",
    "print(x)"
   ]
  },
  {
   "cell_type": "markdown",
   "metadata": {},
   "source": [
    "Annoying Python thing: python indexes start with zero and count up.  So, the fifth value in the array becomes the fourth value, as the first value is the zeroth value.  Slightly confusing, but usually we just need to remember that we often need to subtract one from what we would normally think, because python starts counting at zero instead of one.\n",
    "\n",
    "Раздражающая особенность Python: индексы в Python начинаются с нуля и отсчитываются вверх.  Таким образом, пятое значение в массиве становится четвертым значением, так как первое значение - нулевое.  Это немного запутывает, но обычно нужно просто помнить, что часто нужно вычесть единицу из того, что мы обычно считаем, потому что python начинает считать с нуля, а не с единицы."
   ]
  },
  {
   "cell_type": "markdown",
   "metadata": {},
   "source": [
    "Arrays can also have multiple dimensions.  The fits files we will work with are large, multi-dimensional arrays.  Here's a much smaller example of a 3x3 array\n",
    "\n",
    "Массивы также могут иметь несколько измерений.  Файлы fits, с которыми мы будем работать, представляют собой большие многомерные массивы.  Вот гораздо меньший пример массива 3x3"
   ]
  },
  {
   "cell_type": "code",
   "execution_count": 20,
   "metadata": {
    "ExecuteTime": {
     "end_time": "2023-02-21T17:25:14.945752Z",
     "start_time": "2023-02-21T17:25:14.942017Z"
    }
   },
   "outputs": [
    {
     "name": "stdout",
     "output_type": "stream",
     "text": [
      "[[1 2 3]\n",
      " [4 5 6]\n",
      " [7 8 9]]\n"
     ]
    }
   ],
   "source": [
    "a = np.array([[1,2,3],[4,5,6],[7,8,9]])\n",
    "print(a)"
   ]
  },
  {
   "cell_type": "markdown",
   "metadata": {},
   "source": [
    "We can treat this array in much the same way we did our 1-D array earlier.  For example, multiplying by 5 is the same:\n",
    "\n",
    "Мы можем обращаться с этим массивом точно так же, как мы обращались с 1-D массивом ранее.  Например, умножение на 5 выполняется точно так же:"
   ]
  },
  {
   "cell_type": "code",
   "execution_count": 21,
   "metadata": {
    "ExecuteTime": {
     "end_time": "2023-02-21T17:25:17.756279Z",
     "start_time": "2023-02-21T17:25:17.752725Z"
    }
   },
   "outputs": [
    {
     "name": "stdout",
     "output_type": "stream",
     "text": [
      "[[ 5. 10. 15.]\n",
      " [20. 25. 30.]\n",
      " [35. 40. 45.]]\n"
     ]
    }
   ],
   "source": [
    "a2 = a*5.\n",
    "print(a2)"
   ]
  },
  {
   "cell_type": "markdown",
   "metadata": {},
   "source": [
    "And to pull out a specific value, we can give a position in the array with a row and column indicator:\n",
    "\n",
    "А чтобы вытащить конкретное значение, мы можем указать позицию в массиве с помощью индикатора строки и столбца:"
   ]
  },
  {
   "cell_type": "code",
   "execution_count": 22,
   "metadata": {
    "ExecuteTime": {
     "end_time": "2023-02-21T17:25:20.666547Z",
     "start_time": "2023-02-21T17:25:20.663652Z"
    }
   },
   "outputs": [
    {
     "name": "stdout",
     "output_type": "stream",
     "text": [
      "5\n"
     ]
    }
   ],
   "source": [
    "x = a[1,1]\n",
    "print(x)"
   ]
  },
  {
   "cell_type": "markdown",
   "metadata": {},
   "source": [
    "or we can pull out a whole row using the code:\n",
    "\n",
    "или мы можем вытащить целый ряд с помощью кода:"
   ]
  },
  {
   "cell_type": "code",
   "execution_count": 23,
   "metadata": {
    "ExecuteTime": {
     "end_time": "2023-02-21T17:25:25.806550Z",
     "start_time": "2023-02-21T17:25:25.803519Z"
    }
   },
   "outputs": [
    {
     "name": "stdout",
     "output_type": "stream",
     "text": [
      "[1 2 3]\n"
     ]
    }
   ],
   "source": [
    "a_row = a[0]\n",
    "print(a_row)"
   ]
  },
  {
   "cell_type": "markdown",
   "metadata": {},
   "source": [
    "or a single column using the code:\n",
    "\n",
    "или один столбец с помощью кода:"
   ]
  },
  {
   "cell_type": "code",
   "execution_count": 24,
   "metadata": {
    "ExecuteTime": {
     "end_time": "2023-02-21T17:25:27.748872Z",
     "start_time": "2023-02-21T17:25:27.745961Z"
    }
   },
   "outputs": [
    {
     "name": "stdout",
     "output_type": "stream",
     "text": [
      "[2 5 8]\n"
     ]
    }
   ],
   "source": [
    "a_column = a[:,1]\n",
    "print(a_column)"
   ]
  },
  {
   "cell_type": "markdown",
   "metadata": {},
   "source": [
    "We could also plot this array like we do with the arrays in the fits files using similar code to what you have used in class:\n",
    "\n",
    "Мы также можем построить график этого массива, как мы это делаем с массивами в файлах fits, используя код, аналогичный тому, который вы использовали в классе:"
   ]
  },
  {
   "cell_type": "code",
   "execution_count": 31,
   "metadata": {
    "ExecuteTime": {
     "end_time": "2023-02-21T17:26:52.055789Z",
     "start_time": "2023-02-21T17:26:51.963641Z"
    }
   },
   "outputs": [
    {
     "data": {
      "text/plain": [
       "[<matplotlib.lines.Line2D at 0x7f019d66da10>,\n",
       " <matplotlib.lines.Line2D at 0x7f019d694850>,\n",
       " <matplotlib.lines.Line2D at 0x7f019d67ddd0>]"
      ]
     },
     "execution_count": 31,
     "metadata": {},
     "output_type": "execute_result"
    },
    {
     "data": {
      "image/png": "[encoded data removed]",
      "text/plain": [
       "<Figure size 640x480 with 1 Axes>"
      ]
     },
     "metadata": {},
     "output_type": "display_data"
    }
   ],
   "source": [
    "import matplotlib.pyplot as plt\n",
    "# plt.imshow(a, cmap='gray')\n",
    "# plt.colorbar()\n",
    "plt.plot(a, '-.')"
   ]
  },
  {
   "cell_type": "markdown",
   "metadata": {},
   "source": [
    "When we do this with the data from an image, what we are doing is building an array with the flux values for each individual pixel listed in rows and columns.  So we can pull the flux for a specific pixel using the same method as I used above, as long as we know which pixel we are interested in.\n",
    "\n",
    "Когда мы делаем это с данными изображения, мы создаем массив со значениями потока для каждого отдельного пикселя, перечисленными в строках и столбцах.  Таким образом, мы можем получить поток для конкретного пикселя, используя тот же метод, который я использовал выше, если только мы знаем, какой пиксель нас интересует."
   ]
  },
  {
   "cell_type": "markdown",
   "metadata": {},
   "source": [
    "## Functions\n",
    "Python also has options to create or use previously made functions to do math, make plots, and do all kinds of fun things!  We won't be making many new functions, instead we will be working with those already made and available in the different packages we will load at the beginning of each program.  In the code above, I used the imshow function from the matplotlib.pylot to plot the values of an array.  Most functions will have some necessary inputs (like the array filled with data in imshow) and some optional imputs (like the cmap='gray' input, which tells imshow to use grayscale to color the image).\n",
    "\n",
    "В Python также есть возможность создавать или использовать ранее созданные функции для выполнения математических вычислений, построения графиков и других интересных вещей!  Мы не будем создавать много новых функций, вместо этого мы будем работать с теми, которые уже созданы и доступны в различных пакетах, которые мы будем загружать в начале каждой программы.  В приведенном выше коде я использовал функцию imshow из matplotlib.pylot для построения графика значений массива.  Большинство функций имеют некоторые необходимые входы (например, массив, заполненный данными в imshow) и некоторые необязательные входы (например, вход cmap='gray', который указывает imshow использовать градации серого для окраски изображения)."
   ]
  },
  {
   "cell_type": "markdown",
   "metadata": {},
   "source": [
    "A slightly simplier example of a function is numpy's median function, which finds the median value of an array.  For example, the l2 array we made earlier has a median:\n",
    "\n",
    "Несколько более простым примером функции является функция numpy median, которая находит медианное значение массива.  Например, массив l2, который мы создали ранее, имеет медиану:"
   ]
  },
  {
   "cell_type": "code",
   "execution_count": 32,
   "metadata": {
    "ExecuteTime": {
     "end_time": "2023-02-21T17:27:07.067770Z",
     "start_time": "2023-02-21T17:27:07.056739Z"
    }
   },
   "outputs": [
    {
     "name": "stdout",
     "output_type": "stream",
     "text": [
      "[10.  9.  8.  7.  6.  5.  4.  3.  2.  1.]\n",
      "The median value of the l2 array is  5.5\n"
     ]
    }
   ],
   "source": [
    "print(l2)\n",
    "med = np.median(l2)\n",
    "print('The median value of the l2 array is ', med)"
   ]
  },
  {
   "cell_type": "markdown",
   "metadata": {},
   "source": [
    "We can also use functions to find the minimum value of an array, maximum value of an array, or the size of an array.  Here are some examples with our a array:\n",
    "\n",
    "Мы также можем использовать функции для нахождения минимального значения массива, максимального значения массива или размера массива.  Вот несколько примеров с нашим массивом a:"
   ]
  },
  {
   "cell_type": "code",
   "execution_count": 33,
   "metadata": {
    "ExecuteTime": {
     "end_time": "2023-02-21T17:27:12.646874Z",
     "start_time": "2023-02-21T17:27:12.642013Z"
    }
   },
   "outputs": [
    {
     "name": "stdout",
     "output_type": "stream",
     "text": [
      "[[1 2 3]\n",
      " [4 5 6]\n",
      " [7 8 9]]\n"
     ]
    }
   ],
   "source": [
    "print(a)"
   ]
  },
  {
   "cell_type": "code",
   "execution_count": 34,
   "metadata": {
    "ExecuteTime": {
     "end_time": "2023-02-21T17:27:13.467680Z",
     "start_time": "2023-02-21T17:27:13.463119Z"
    }
   },
   "outputs": [
    {
     "name": "stdout",
     "output_type": "stream",
     "text": [
      "1\n"
     ]
    }
   ],
   "source": [
    "print(np.min(a))"
   ]
  },
  {
   "cell_type": "code",
   "execution_count": 35,
   "metadata": {
    "ExecuteTime": {
     "end_time": "2023-02-21T17:27:14.030022Z",
     "start_time": "2023-02-21T17:27:14.025284Z"
    }
   },
   "outputs": [
    {
     "name": "stdout",
     "output_type": "stream",
     "text": [
      "9\n"
     ]
    }
   ],
   "source": [
    "print(np.max(a))"
   ]
  },
  {
   "cell_type": "code",
   "execution_count": 36,
   "metadata": {
    "ExecuteTime": {
     "end_time": "2023-02-21T17:27:14.537872Z",
     "start_time": "2023-02-21T17:27:14.535261Z"
    }
   },
   "outputs": [
    {
     "name": "stdout",
     "output_type": "stream",
     "text": [
      "(3, 3)\n"
     ]
    }
   ],
   "source": [
    "print(a.shape)"
   ]
  },
  {
   "cell_type": "markdown",
   "metadata": {},
   "source": [
    "## Loading Text Files with Pandas"
   ]
  },
  {
   "cell_type": "markdown",
   "metadata": {},
   "source": [
    "We will often work with data stored in text files.  I've put a txt file with some data from my research in our course files called 'kf_data_cigale.txt'.  We can load this data into a pandas dataframe using the code:\n",
    "\n",
    "Мы часто будем работать с данными, хранящимися в текстовых файлах.  Я поместил txt-файл с некоторыми данными из моего исследования в файлы нашего курса под названием 'kf_data_cigale.txt'.  Мы можем загрузить эти данные в рамку данных pandas с помощью кода:"
   ]
  },
  {
   "cell_type": "code",
   "execution_count": 40,
   "metadata": {
    "ExecuteTime": {
     "end_time": "2023-02-21T17:29:05.547959Z",
     "start_time": "2023-02-21T17:29:05.528836Z"
    }
   },
   "outputs": [
    {
     "data": {
      "text/html": [
       "<div>\n",
       "<style scoped>\n",
       "    .dataframe tbody tr th:only-of-type {\n",
       "        vertical-align: middle;\n",
       "    }\n",
       "\n",
       "    .dataframe tbody tr th {\n",
       "        vertical-align: top;\n",
       "    }\n",
       "\n",
       "    .dataframe thead th {\n",
       "        text-align: right;\n",
       "    }\n",
       "</style>\n",
       "<table border=\"1\" class=\"dataframe\">\n",
       "  <thead>\n",
       "    <tr style=\"text-align: right;\">\n",
       "      <th></th>\n",
       "      <th>Galaxy</th>\n",
       "      <th>[CII]Lum</th>\n",
       "      <th>[CII]Lerr</th>\n",
       "      <th>[NII]Lum</th>\n",
       "      <th>[NII]Lerr</th>\n",
       "      <th>fneut</th>\n",
       "      <th>fneut_err</th>\n",
       "      <th>LTIR</th>\n",
       "      <th>TIRerr</th>\n",
       "      <th>70160</th>\n",
       "      <th>70160_err</th>\n",
       "      <th>area</th>\n",
       "      <th>cosi</th>\n",
       "      <th>SFR</th>\n",
       "      <th>SFRerr</th>\n",
       "      <th>n_e</th>\n",
       "    </tr>\n",
       "  </thead>\n",
       "  <tbody>\n",
       "    <tr>\n",
       "      <th>0</th>\n",
       "      <td>ngc0628e00</td>\n",
       "      <td>4.914030e+39</td>\n",
       "      <td>4.918350e+38</td>\n",
       "      <td>5.229200e+38</td>\n",
       "      <td>1.586660e+38</td>\n",
       "      <td>0.622479</td>\n",
       "      <td>0.075083</td>\n",
       "      <td>1.337408e+42</td>\n",
       "      <td>3.719701e+40</td>\n",
       "      <td>1.667059</td>\n",
       "      <td>0.118658</td>\n",
       "      <td>1.531171</td>\n",
       "      <td>0.910413</td>\n",
       "      <td>0.075997</td>\n",
       "      <td>0.002783</td>\n",
       "      <td>27.415736</td>\n",
       "    </tr>\n",
       "    <tr>\n",
       "      <th>1</th>\n",
       "      <td>ngc2798nuc</td>\n",
       "      <td>4.055900e+41</td>\n",
       "      <td>4.056606e+40</td>\n",
       "      <td>2.357690e+40</td>\n",
       "      <td>7.092116e+39</td>\n",
       "      <td>0.799880</td>\n",
       "      <td>0.050743</td>\n",
       "      <td>2.779856e+44</td>\n",
       "      <td>8.161728e+42</td>\n",
       "      <td>3.364298</td>\n",
       "      <td>0.239197</td>\n",
       "      <td>19.660665</td>\n",
       "      <td>0.360127</td>\n",
       "      <td>13.639043</td>\n",
       "      <td>0.541490</td>\n",
       "      <td>77.089461</td>\n",
       "    </tr>\n",
       "    <tr>\n",
       "      <th>2</th>\n",
       "      <td>ngc2976e00</td>\n",
       "      <td>4.253690e+39</td>\n",
       "      <td>4.254016e+38</td>\n",
       "      <td>1.062370e+38</td>\n",
       "      <td>3.218280e+37</td>\n",
       "      <td>0.913708</td>\n",
       "      <td>0.025153</td>\n",
       "      <td>1.048223e+42</td>\n",
       "      <td>3.057906e+40</td>\n",
       "      <td>1.994979</td>\n",
       "      <td>0.141256</td>\n",
       "      <td>0.372234</td>\n",
       "      <td>0.419386</td>\n",
       "      <td>0.043718</td>\n",
       "      <td>0.001623</td>\n",
       "      <td>61.517147</td>\n",
       "    </tr>\n",
       "    <tr>\n",
       "      <th>3</th>\n",
       "      <td>ngc3049nuc</td>\n",
       "      <td>6.039900e+40</td>\n",
       "      <td>6.043904e+39</td>\n",
       "      <td>2.443890e+39</td>\n",
       "      <td>7.663261e+38</td>\n",
       "      <td>0.857484</td>\n",
       "      <td>0.040224</td>\n",
       "      <td>2.087241e+43</td>\n",
       "      <td>5.860597e+41</td>\n",
       "      <td>2.712361</td>\n",
       "      <td>0.192975</td>\n",
       "      <td>10.888329</td>\n",
       "      <td>0.643008</td>\n",
       "      <td>1.302635</td>\n",
       "      <td>0.047007</td>\n",
       "      <td>114.550222</td>\n",
       "    </tr>\n",
       "    <tr>\n",
       "      <th>4</th>\n",
       "      <td>ngc3351nuc</td>\n",
       "      <td>4.434020e+40</td>\n",
       "      <td>4.434421e+39</td>\n",
       "      <td>3.377270e+39</td>\n",
       "      <td>1.014207e+39</td>\n",
       "      <td>0.718263</td>\n",
       "      <td>0.064051</td>\n",
       "      <td>2.598507e+43</td>\n",
       "      <td>7.548966e+41</td>\n",
       "      <td>2.244095</td>\n",
       "      <td>0.158959</td>\n",
       "      <td>2.571118</td>\n",
       "      <td>0.659052</td>\n",
       "      <td>1.115192</td>\n",
       "      <td>0.042669</td>\n",
       "      <td>241.544882</td>\n",
       "    </tr>\n",
       "    <tr>\n",
       "      <th>5</th>\n",
       "      <td>ngc3521nuc</td>\n",
       "      <td>3.948900e+40</td>\n",
       "      <td>3.949607e+39</td>\n",
       "      <td>2.735180e+39</td>\n",
       "      <td>8.256527e+38</td>\n",
       "      <td>0.761663</td>\n",
       "      <td>0.057728</td>\n",
       "      <td>1.139116e+43</td>\n",
       "      <td>3.634514e+41</td>\n",
       "      <td>1.137780</td>\n",
       "      <td>0.080487</td>\n",
       "      <td>3.705056</td>\n",
       "      <td>0.431837</td>\n",
       "      <td>0.263553</td>\n",
       "      <td>0.010152</td>\n",
       "      <td>31.476989</td>\n",
       "    </tr>\n",
       "    <tr>\n",
       "      <th>6</th>\n",
       "      <td>ngc3627e02</td>\n",
       "      <td>7.645980e+40</td>\n",
       "      <td>7.646393e+39</td>\n",
       "      <td>5.252080e+39</td>\n",
       "      <td>1.576738e+39</td>\n",
       "      <td>0.762808</td>\n",
       "      <td>0.057252</td>\n",
       "      <td>2.453207e+43</td>\n",
       "      <td>7.124512e+41</td>\n",
       "      <td>2.069535</td>\n",
       "      <td>0.146676</td>\n",
       "      <td>2.598750</td>\n",
       "      <td>0.441870</td>\n",
       "      <td>1.002315</td>\n",
       "      <td>0.039411</td>\n",
       "      <td>101.390077</td>\n",
       "    </tr>\n",
       "    <tr>\n",
       "      <th>7</th>\n",
       "      <td>ngc4254nuc</td>\n",
       "      <td>1.031000e+41</td>\n",
       "      <td>1.031059e+40</td>\n",
       "      <td>8.448830e+39</td>\n",
       "      <td>2.539706e+39</td>\n",
       "      <td>0.717903</td>\n",
       "      <td>0.064157</td>\n",
       "      <td>2.723281e+43</td>\n",
       "      <td>8.498530e+41</td>\n",
       "      <td>1.415062</td>\n",
       "      <td>0.100095</td>\n",
       "      <td>6.124685</td>\n",
       "      <td>0.865208</td>\n",
       "      <td>0.687905</td>\n",
       "      <td>0.026051</td>\n",
       "      <td>43.350579</td>\n",
       "    </tr>\n",
       "    <tr>\n",
       "      <th>8</th>\n",
       "      <td>ngc4321nuc</td>\n",
       "      <td>1.065130e+41</td>\n",
       "      <td>1.065206e+40</td>\n",
       "      <td>1.247840e+40</td>\n",
       "      <td>3.746474e+39</td>\n",
       "      <td>0.596441</td>\n",
       "      <td>0.076170</td>\n",
       "      <td>4.277321e+43</td>\n",
       "      <td>1.304728e+42</td>\n",
       "      <td>1.676680</td>\n",
       "      <td>0.118636</td>\n",
       "      <td>6.039915</td>\n",
       "      <td>0.844221</td>\n",
       "      <td>1.336755</td>\n",
       "      <td>0.048160</td>\n",
       "      <td>62.516052</td>\n",
       "    </tr>\n",
       "    <tr>\n",
       "      <th>9</th>\n",
       "      <td>ngc4536nuc</td>\n",
       "      <td>3.004490e+41</td>\n",
       "      <td>3.004932e+40</td>\n",
       "      <td>3.852540e+39</td>\n",
       "      <td>1.161832e+39</td>\n",
       "      <td>0.943267</td>\n",
       "      <td>0.017003</td>\n",
       "      <td>1.090136e+44</td>\n",
       "      <td>3.241973e+42</td>\n",
       "      <td>3.088429</td>\n",
       "      <td>0.218691</td>\n",
       "      <td>6.210046</td>\n",
       "      <td>0.385045</td>\n",
       "      <td>4.612524</td>\n",
       "      <td>0.183770</td>\n",
       "      <td>623.734194</td>\n",
       "    </tr>\n",
       "    <tr>\n",
       "      <th>10</th>\n",
       "      <td>ngc4631nuc</td>\n",
       "      <td>6.700940e+40</td>\n",
       "      <td>6.701102e+39</td>\n",
       "      <td>2.228180e+39</td>\n",
       "      <td>6.693282e+38</td>\n",
       "      <td>0.883894</td>\n",
       "      <td>0.032491</td>\n",
       "      <td>1.642068e+43</td>\n",
       "      <td>4.922364e+41</td>\n",
       "      <td>2.136279</td>\n",
       "      <td>0.151127</td>\n",
       "      <td>1.715018</td>\n",
       "      <td>0.116645</td>\n",
       "      <td>0.553367</td>\n",
       "      <td>0.021624</td>\n",
       "      <td>83.560138</td>\n",
       "    </tr>\n",
       "    <tr>\n",
       "      <th>11</th>\n",
       "      <td>ngc4736e01</td>\n",
       "      <td>1.043440e+40</td>\n",
       "      <td>1.043490e+39</td>\n",
       "      <td>2.769940e+38</td>\n",
       "      <td>8.370358e+37</td>\n",
       "      <td>0.894206</td>\n",
       "      <td>0.030112</td>\n",
       "      <td>2.873196e+42</td>\n",
       "      <td>8.704508e+40</td>\n",
       "      <td>2.235206</td>\n",
       "      <td>0.158157</td>\n",
       "      <td>0.641402</td>\n",
       "      <td>0.804265</td>\n",
       "      <td>0.105024</td>\n",
       "      <td>0.003671</td>\n",
       "      <td>151.355139</td>\n",
       "    </tr>\n",
       "    <tr>\n",
       "      <th>12</th>\n",
       "      <td>ngc4826nuc</td>\n",
       "      <td>1.785910e+40</td>\n",
       "      <td>1.786187e+39</td>\n",
       "      <td>1.514260e+39</td>\n",
       "      <td>4.545919e+38</td>\n",
       "      <td>0.698323</td>\n",
       "      <td>0.066662</td>\n",
       "      <td>1.153397e+43</td>\n",
       "      <td>3.686198e+41</td>\n",
       "      <td>1.940819</td>\n",
       "      <td>0.137267</td>\n",
       "      <td>0.820314</td>\n",
       "      <td>0.508643</td>\n",
       "      <td>0.226794</td>\n",
       "      <td>0.008789</td>\n",
       "      <td>96.604831</td>\n",
       "    </tr>\n",
       "    <tr>\n",
       "      <th>13</th>\n",
       "      <td>ngc5055nuc</td>\n",
       "      <td>2.271270e+40</td>\n",
       "      <td>2.271547e+39</td>\n",
       "      <td>2.272690e+39</td>\n",
       "      <td>6.829063e+38</td>\n",
       "      <td>0.638698</td>\n",
       "      <td>0.073080</td>\n",
       "      <td>1.159476e+43</td>\n",
       "      <td>3.823336e+41</td>\n",
       "      <td>1.355191</td>\n",
       "      <td>0.095867</td>\n",
       "      <td>1.862086</td>\n",
       "      <td>0.564905</td>\n",
       "      <td>0.167751</td>\n",
       "      <td>0.006377</td>\n",
       "      <td>19.814921</td>\n",
       "    </tr>\n",
       "    <tr>\n",
       "      <th>14</th>\n",
       "      <td>ngc5457nuc</td>\n",
       "      <td>5.300960e+39</td>\n",
       "      <td>5.302699e+38</td>\n",
       "      <td>1.008550e+39</td>\n",
       "      <td>3.039347e+38</td>\n",
       "      <td>0.344436</td>\n",
       "      <td>0.208159</td>\n",
       "      <td>1.639159e+42</td>\n",
       "      <td>5.128742e+40</td>\n",
       "      <td>1.305234</td>\n",
       "      <td>0.092579</td>\n",
       "      <td>1.325893</td>\n",
       "      <td>0.930104</td>\n",
       "      <td>0.046941</td>\n",
       "      <td>0.001647</td>\n",
       "      <td>0.277114</td>\n",
       "    </tr>\n",
       "    <tr>\n",
       "      <th>15</th>\n",
       "      <td>ngc5713nuc</td>\n",
       "      <td>3.396310e+41</td>\n",
       "      <td>3.396522e+40</td>\n",
       "      <td>1.505530e+40</td>\n",
       "      <td>4.524496e+39</td>\n",
       "      <td>0.847402</td>\n",
       "      <td>0.040957</td>\n",
       "      <td>1.305735e+44</td>\n",
       "      <td>3.815128e+42</td>\n",
       "      <td>2.457863</td>\n",
       "      <td>0.174107</td>\n",
       "      <td>13.488630</td>\n",
       "      <td>0.886167</td>\n",
       "      <td>5.552392</td>\n",
       "      <td>0.215414</td>\n",
       "      <td>77.266481</td>\n",
       "    </tr>\n",
       "    <tr>\n",
       "      <th>16</th>\n",
       "      <td>ngc5866nuc</td>\n",
       "      <td>2.241100e+40</td>\n",
       "      <td>2.244076e+39</td>\n",
       "      <td>4.354760e+39</td>\n",
       "      <td>1.316735e+39</td>\n",
       "      <td>0.163071</td>\n",
       "      <td>0.043471</td>\n",
       "      <td>2.426994e+43</td>\n",
       "      <td>8.327087e+41</td>\n",
       "      <td>1.359631</td>\n",
       "      <td>0.096455</td>\n",
       "      <td>6.914195</td>\n",
       "      <td>0.399609</td>\n",
       "      <td>0.175616</td>\n",
       "      <td>0.006749</td>\n",
       "      <td>8.871439</td>\n",
       "    </tr>\n",
       "    <tr>\n",
       "      <th>17</th>\n",
       "      <td>ngc7331nuc</td>\n",
       "      <td>7.602420e+40</td>\n",
       "      <td>7.603513e+39</td>\n",
       "      <td>9.194240e+39</td>\n",
       "      <td>2.760825e+39</td>\n",
       "      <td>0.562409</td>\n",
       "      <td>0.077891</td>\n",
       "      <td>2.328303e+43</td>\n",
       "      <td>7.490029e+41</td>\n",
       "      <td>1.372759</td>\n",
       "      <td>0.097096</td>\n",
       "      <td>6.210046</td>\n",
       "      <td>0.299348</td>\n",
       "      <td>0.434653</td>\n",
       "      <td>0.016964</td>\n",
       "      <td>15.452343</td>\n",
       "    </tr>\n",
       "  </tbody>\n",
       "</table>\n",
       "</div>"
      ],
      "text/plain": [
       "        Galaxy      [CII]Lum     [CII]Lerr      [NII]Lum     [NII]Lerr  \\\n",
       "0   ngc0628e00  4.914030e+39  4.918350e+38  5.229200e+38  1.586660e+38   \n",
       "1   ngc2798nuc  4.055900e+41  4.056606e+40  2.357690e+40  7.092116e+39   \n",
       "2   ngc2976e00  4.253690e+39  4.254016e+38  1.062370e+38  3.218280e+37   \n",
       "3   ngc3049nuc  6.039900e+40  6.043904e+39  2.443890e+39  7.663261e+38   \n",
       "4   ngc3351nuc  4.434020e+40  4.434421e+39  3.377270e+39  1.014207e+39   \n",
       "5   ngc3521nuc  3.948900e+40  3.949607e+39  2.735180e+39  8.256527e+38   \n",
       "6   ngc3627e02  7.645980e+40  7.646393e+39  5.252080e+39  1.576738e+39   \n",
       "7   ngc4254nuc  1.031000e+41  1.031059e+40  8.448830e+39  2.539706e+39   \n",
       "8   ngc4321nuc  1.065130e+41  1.065206e+40  1.247840e+40  3.746474e+39   \n",
       "9   ngc4536nuc  3.004490e+41  3.004932e+40  3.852540e+39  1.161832e+39   \n",
       "10  ngc4631nuc  6.700940e+40  6.701102e+39  2.228180e+39  6.693282e+38   \n",
       "11  ngc4736e01  1.043440e+40  1.043490e+39  2.769940e+38  8.370358e+37   \n",
       "12  ngc4826nuc  1.785910e+40  1.786187e+39  1.514260e+39  4.545919e+38   \n",
       "13  ngc5055nuc  2.271270e+40  2.271547e+39  2.272690e+39  6.829063e+38   \n",
       "14  ngc5457nuc  5.300960e+39  5.302699e+38  1.008550e+39  3.039347e+38   \n",
       "15  ngc5713nuc  3.396310e+41  3.396522e+40  1.505530e+40  4.524496e+39   \n",
       "16  ngc5866nuc  2.241100e+40  2.244076e+39  4.354760e+39  1.316735e+39   \n",
       "17  ngc7331nuc  7.602420e+40  7.603513e+39  9.194240e+39  2.760825e+39   \n",
       "\n",
       "       fneut  fneut_err          LTIR        TIRerr     70160  70160_err  \\\n",
       "0   0.622479   0.075083  1.337408e+42  3.719701e+40  1.667059   0.118658   \n",
       "1   0.799880   0.050743  2.779856e+44  8.161728e+42  3.364298   0.239197   \n",
       "2   0.913708   0.025153  1.048223e+42  3.057906e+40  1.994979   0.141256   \n",
       "3   0.857484   0.040224  2.087241e+43  5.860597e+41  2.712361   0.192975   \n",
       "4   0.718263   0.064051  2.598507e+43  7.548966e+41  2.244095   0.158959   \n",
       "5   0.761663   0.057728  1.139116e+43  3.634514e+41  1.137780   0.080487   \n",
       "6   0.762808   0.057252  2.453207e+43  7.124512e+41  2.069535   0.146676   \n",
       "7   0.717903   0.064157  2.723281e+43  8.498530e+41  1.415062   0.100095   \n",
       "8   0.596441   0.076170  4.277321e+43  1.304728e+42  1.676680   0.118636   \n",
       "9   0.943267   0.017003  1.090136e+44  3.241973e+42  3.088429   0.218691   \n",
       "10  0.883894   0.032491  1.642068e+43  4.922364e+41  2.136279   0.151127   \n",
       "11  0.894206   0.030112  2.873196e+42  8.704508e+40  2.235206   0.158157   \n",
       "12  0.698323   0.066662  1.153397e+43  3.686198e+41  1.940819   0.137267   \n",
       "13  0.638698   0.073080  1.159476e+43  3.823336e+41  1.355191   0.095867   \n",
       "14  0.344436   0.208159  1.639159e+42  5.128742e+40  1.305234   0.092579   \n",
       "15  0.847402   0.040957  1.305735e+44  3.815128e+42  2.457863   0.174107   \n",
       "16  0.163071   0.043471  2.426994e+43  8.327087e+41  1.359631   0.096455   \n",
       "17  0.562409   0.077891  2.328303e+43  7.490029e+41  1.372759   0.097096   \n",
       "\n",
       "         area      cosi        SFR    SFRerr         n_e  \n",
       "0    1.531171  0.910413   0.075997  0.002783   27.415736  \n",
       "1   19.660665  0.360127  13.639043  0.541490   77.089461  \n",
       "2    0.372234  0.419386   0.043718  0.001623   61.517147  \n",
       "3   10.888329  0.643008   1.302635  0.047007  114.550222  \n",
       "4    2.571118  0.659052   1.115192  0.042669  241.544882  \n",
       "5    3.705056  0.431837   0.263553  0.010152   31.476989  \n",
       "6    2.598750  0.441870   1.002315  0.039411  101.390077  \n",
       "7    6.124685  0.865208   0.687905  0.026051   43.350579  \n",
       "8    6.039915  0.844221   1.336755  0.048160   62.516052  \n",
       "9    6.210046  0.385045   4.612524  0.183770  623.734194  \n",
       "10   1.715018  0.116645   0.553367  0.021624   83.560138  \n",
       "11   0.641402  0.804265   0.105024  0.003671  151.355139  \n",
       "12   0.820314  0.508643   0.226794  0.008789   96.604831  \n",
       "13   1.862086  0.564905   0.167751  0.006377   19.814921  \n",
       "14   1.325893  0.930104   0.046941  0.001647    0.277114  \n",
       "15  13.488630  0.886167   5.552392  0.215414   77.266481  \n",
       "16   6.914195  0.399609   0.175616  0.006749    8.871439  \n",
       "17   6.210046  0.299348   0.434653  0.016964   15.452343  "
      ]
     },
     "execution_count": 40,
     "metadata": {},
     "output_type": "execute_result"
    }
   ],
   "source": [
    "import pandas as pd\n",
    "data = pd.read_csv('kf_data_cigale.txt', delim_whitespace=True)\n",
    "data"
   ]
  },
  {
   "cell_type": "markdown",
   "metadata": {},
   "source": [
    "In the code above, I loaded the pandas packages and then told pandas to make a dataframe (kind of a fancy array) with all the information from the file kf_data_cigale.txt in it.  I also told pandas to treat any white space as an indicator of a new row using the optional input: delim_whitespace=True.  Typically, read_csv looks for commas to indicate a new row, but I used tabs because that is easier for me to read.  Telling pandas to instead look for blank space to indicate a new row makes things easier for me to process!\n",
    "\n",
    "В приведенном выше коде я загрузил пакеты pandas, а затем сказал pandas создать фрейм данных (своего рода причудливый массив) со всей информацией из файла kf_data_cigale.txt.  Я также сказал pandas рассматривать любой пробел как индикатор новой строки, используя необязательный вход: delim_whitespace=True.  Обычно read_csv ищет запятые для обозначения новой строки, но я использовал табуляцию, потому что мне так легче читать.  Указание pandas искать пробел для обозначения новой строки упрощает обработку!"
   ]
  },
  {
   "cell_type": "markdown",
   "metadata": {},
   "source": [
    "We can now create arrays of the data in this file.  For example, if I wanted an array with all the star formation rates (which I list in a row called 'SFR') I would use the code:\n",
    "\n",
    "Теперь мы можем создавать массивы данных в этом файле.  Например, если бы я хотел получить массив со всеми скоростями звездообразования (которые я перечисляю в строке под названием 'SFR'), я бы использовал код:"
   ]
  },
  {
   "cell_type": "code",
   "execution_count": 41,
   "metadata": {
    "ExecuteTime": {
     "end_time": "2023-02-21T17:29:31.831975Z",
     "start_time": "2023-02-21T17:29:31.827958Z"
    }
   },
   "outputs": [
    {
     "name": "stdout",
     "output_type": "stream",
     "text": [
      "0      0.075997\n",
      "1     13.639043\n",
      "2      0.043718\n",
      "3      1.302635\n",
      "4      1.115192\n",
      "5      0.263553\n",
      "6      1.002315\n",
      "7      0.687905\n",
      "8      1.336755\n",
      "9      4.612524\n",
      "10     0.553367\n",
      "11     0.105024\n",
      "12     0.226794\n",
      "13     0.167751\n",
      "14     0.046941\n",
      "15     5.552392\n",
      "16     0.175616\n",
      "17     0.434653\n",
      "Name: SFR, dtype: float64\n"
     ]
    }
   ],
   "source": [
    "sfr = data['SFR']\n",
    "print(sfr)"
   ]
  },
  {
   "cell_type": "markdown",
   "metadata": {},
   "source": [
    "If I want to plot my infrared luminosities (storred in a column called LTIR) vs these star formation rate measurements, I could use matplotlib again, which the code scatter:\n",
    "\n",
    "Если я хочу построить график моей инфракрасной светимости (хранящейся в столбце под названием LTIR) в сравнении с этими измерениями скорости звездообразования, я мог бы снова использовать matplotlib, который код рассеивает:"
   ]
  },
  {
   "cell_type": "code",
   "execution_count": 56,
   "metadata": {
    "ExecuteTime": {
     "end_time": "2023-02-21T17:36:21.371792Z",
     "start_time": "2023-02-21T17:36:21.303263Z"
    }
   },
   "outputs": [
    {
     "name": "stdout",
     "output_type": "stream",
     "text": [
      "Help on function errorbar in module matplotlib.pyplot:\n",
      "\n",
      "errorbar(x, y, yerr=None, xerr=None, fmt='', ecolor=None, elinewidth=None, capsize=None, barsabove=False, lolims=False, uplims=False, xlolims=False, xuplims=False, errorevery=1, capthick=None, *, data=None, **kwargs)\n",
      "    Plot y versus x as lines and/or markers with attached errorbars.\n",
      "    \n",
      "    *x*, *y* define the data locations, *xerr*, *yerr* define the errorbar\n",
      "    sizes. By default, this draws the data markers/lines as well the\n",
      "    errorbars. Use fmt='none' to draw errorbars without any data markers.\n",
      "    \n",
      "    Parameters\n",
      "    ----------\n",
      "    x, y : float or array-like\n",
      "        The data positions.\n",
      "    \n",
      "    xerr, yerr : float or array-like, shape(N,) or shape(2, N), optional\n",
      "        The errorbar sizes:\n",
      "    \n",
      "        - scalar: Symmetric +/- values for all data points.\n",
      "        - shape(N,): Symmetric +/-values for each data point.\n",
      "        - shape(2, N): Separate - and + values for each bar. First row\n",
      "          contains the lower errors, the second row contains the upper\n",
      "          errors.\n",
      "        - *None*: No errorbar.\n",
      "    \n",
      "        Note that all error arrays should have *positive* values.\n",
      "    \n",
      "        See :doc:`/gallery/statistics/errorbar_features`\n",
      "        for an example on the usage of ``xerr`` and ``yerr``.\n",
      "    \n",
      "    fmt : str, default: ''\n",
      "        The format for the data points / data lines. See `.plot` for\n",
      "        details.\n",
      "    \n",
      "        Use 'none' (case insensitive) to plot errorbars without any data\n",
      "        markers.\n",
      "    \n",
      "    ecolor : color, default: None\n",
      "        The color of the errorbar lines.  If None, use the color of the\n",
      "        line connecting the markers.\n",
      "    \n",
      "    elinewidth : float, default: None\n",
      "        The linewidth of the errorbar lines. If None, the linewidth of\n",
      "        the current style is used.\n",
      "    \n",
      "    capsize : float, default: :rc:`errorbar.capsize`\n",
      "        The length of the error bar caps in points.\n",
      "    \n",
      "    capthick : float, default: None\n",
      "        An alias to the keyword argument *markeredgewidth* (a.k.a. *mew*).\n",
      "        This setting is a more sensible name for the property that\n",
      "        controls the thickness of the error bar cap in points. For\n",
      "        backwards compatibility, if *mew* or *markeredgewidth* are given,\n",
      "        then they will over-ride *capthick*. This may change in future\n",
      "        releases.\n",
      "    \n",
      "    barsabove : bool, default: False\n",
      "        If True, will plot the errorbars above the plot\n",
      "        symbols. Default is below.\n",
      "    \n",
      "    lolims, uplims, xlolims, xuplims : bool, default: False\n",
      "        These arguments can be used to indicate that a value gives only\n",
      "        upper/lower limits.  In that case a caret symbol is used to\n",
      "        indicate this. *lims*-arguments may be scalars, or array-likes of\n",
      "        the same length as *xerr* and *yerr*.  To use limits with inverted\n",
      "        axes, `~.Axes.set_xlim` or `~.Axes.set_ylim` must be called before\n",
      "        :meth:`errorbar`.  Note the tricky parameter names: setting e.g.\n",
      "        *lolims* to True means that the y-value is a *lower* limit of the\n",
      "        True value, so, only an *upward*-pointing arrow will be drawn!\n",
      "    \n",
      "    errorevery : int or (int, int), default: 1\n",
      "        draws error bars on a subset of the data. *errorevery* =N draws\n",
      "        error bars on the points (x[::N], y[::N]).\n",
      "        *errorevery* =(start, N) draws error bars on the points\n",
      "        (x[start::N], y[start::N]). e.g. errorevery=(6, 3)\n",
      "        adds error bars to the data at (x[6], x[9], x[12], x[15], ...).\n",
      "        Used to avoid overlapping error bars when two series share x-axis\n",
      "        values.\n",
      "    \n",
      "    Returns\n",
      "    -------\n",
      "    `.ErrorbarContainer`\n",
      "        The container contains:\n",
      "    \n",
      "        - plotline: `.Line2D` instance of x, y plot markers and/or line.\n",
      "        - caplines: A tuple of `.Line2D` instances of the error bar caps.\n",
      "        - barlinecols: A tuple of `.LineCollection` with the horizontal and\n",
      "          vertical error ranges.\n",
      "    \n",
      "    Other Parameters\n",
      "    ----------------\n",
      "    data : indexable object, optional\n",
      "        If given, the following parameters also accept a string ``s``, which is\n",
      "        interpreted as ``data[s]`` (unless this raises an exception):\n",
      "    \n",
      "        *x*, *y*, *xerr*, *yerr*\n",
      "    \n",
      "    **kwargs\n",
      "        All other keyword arguments are passed on to the `~.Axes.plot` call\n",
      "        drawing the markers. For example, this code makes big red squares\n",
      "        with thick green edges::\n",
      "    \n",
      "            x, y, yerr = rand(3, 10)\n",
      "            errorbar(x, y, yerr, marker='s', mfc='red',\n",
      "                     mec='green', ms=20, mew=4)\n",
      "    \n",
      "        where *mfc*, *mec*, *ms* and *mew* are aliases for the longer\n",
      "        property names, *markerfacecolor*, *markeredgecolor*, *markersize*\n",
      "        and *markeredgewidth*.\n",
      "    \n",
      "        Valid kwargs for the marker properties are `.Line2D` properties:\n",
      "    \n",
      "        Properties:\n",
      "        agg_filter: a filter function, which takes a (m, n, 3) float array and a dpi value, and returns a (m, n, 3) array\n",
      "        alpha: scalar or None\n",
      "        animated: bool\n",
      "        antialiased or aa: bool\n",
      "        clip_box: `.Bbox`\n",
      "        clip_on: bool\n",
      "        clip_path: Patch or (Path, Transform) or None\n",
      "        color or c: color\n",
      "        dash_capstyle: `.CapStyle` or {'butt', 'projecting', 'round'}\n",
      "        dash_joinstyle: `.JoinStyle` or {'miter', 'round', 'bevel'}\n",
      "        dashes: sequence of floats (on/off ink in points) or (None, None)\n",
      "        data: (2, N) array or two 1D arrays\n",
      "        drawstyle or ds: {'default', 'steps', 'steps-pre', 'steps-mid', 'steps-post'}, default: 'default'\n",
      "        figure: `.Figure`\n",
      "        fillstyle: {'full', 'left', 'right', 'bottom', 'top', 'none'}\n",
      "        gid: str\n",
      "        in_layout: bool\n",
      "        label: object\n",
      "        linestyle or ls: {'-', '--', '-.', ':', '', (offset, on-off-seq), ...}\n",
      "        linewidth or lw: float\n",
      "        marker: marker style string, `~.path.Path` or `~.markers.MarkerStyle`\n",
      "        markeredgecolor or mec: color\n",
      "        markeredgewidth or mew: float\n",
      "        markerfacecolor or mfc: color\n",
      "        markerfacecoloralt or mfcalt: color\n",
      "        markersize or ms: float\n",
      "        markevery: None or int or (int, int) or slice or list[int] or float or (float, float) or list[bool]\n",
      "        path_effects: `.AbstractPathEffect`\n",
      "        picker: float or callable[[Artist, Event], tuple[bool, dict]]\n",
      "        pickradius: float\n",
      "        rasterized: bool\n",
      "        sketch_params: (scale: float, length: float, randomness: float)\n",
      "        snap: bool or None\n",
      "        solid_capstyle: `.CapStyle` or {'butt', 'projecting', 'round'}\n",
      "        solid_joinstyle: `.JoinStyle` or {'miter', 'round', 'bevel'}\n",
      "        transform: unknown\n",
      "        url: str\n",
      "        visible: bool\n",
      "        xdata: 1D array\n",
      "        ydata: 1D array\n",
      "        zorder: float\n",
      "\n"
     ]
    },
    {
     "data": {
      "image/png": "[encoded data removed]",
      "text/plain": [
       "<Figure size 640x480 with 1 Axes>"
      ]
     },
     "metadata": {},
     "output_type": "display_data"
    }
   ],
   "source": [
    "LTIR = data['LTIR']\n",
    "plt.plot(LTIR, sfr, '+')\n",
    "\n",
    "k, err = np.polyfit(LTIR, sfr, 1, cov=True)\n",
    "y = np.polyval(k, LTIR)\n",
    "plt.plot(LTIR,y)\n",
    "\n",
    "np.sqrt(np.diag(err))\n",
    "\n",
    "help(plt.errorbar)"
   ]
  },
  {
   "cell_type": "markdown",
   "metadata": {},
   "source": [
    "So, I've now used matplotlib's function scatter to plot my LTIR vs SFR datapoints from the file I loaded.  \n",
    "\n",
    "Итак, я использовал функцию scatter в matplotlib, чтобы построить график LTIR против SFR из загруженного файла.  "
   ]
  },
  {
   "cell_type": "markdown",
   "metadata": {},
   "source": [
    "One of the reasons dataframes are nice is that they let us store strings and floats together. So, the names of the regions I study are all listed as strings in a row called 'Galaxy'.  If I wanted to pull the star formation rate for one of the regions within NGC0628, I can do that using the code:\n",
    "\n",
    "Одна из причин, по которой фреймы данных хороши, заключается в том, что они позволяют нам хранить строки и плавающие значения вместе. Так, названия регионов, которые я изучаю, все перечислены как строки в строке под названием \"Галактика\".  Если я хочу получить данные о скорости звездообразования для одного из регионов в NGC0628, я могу сделать это с помощью кода:"
   ]
  },
  {
   "cell_type": "code",
   "execution_count": 46,
   "metadata": {
    "ExecuteTime": {
     "end_time": "2023-02-21T17:31:32.204025Z",
     "start_time": "2023-02-21T17:31:32.188432Z"
    }
   },
   "outputs": [
    {
     "name": "stdout",
     "output_type": "stream",
     "text": [
      "0    0.075997\n",
      "Name: SFR, dtype: float64\n"
     ]
    }
   ],
   "source": [
    "print(data[data['Galaxy']=='ngc0628e00']['SFR'])"
   ]
  },
  {
   "cell_type": "markdown",
   "metadata": {},
   "source": [
    "Here I told python to print the 'SFR' row of the column where the 'Galaxy' value is exactly equal (==) to the string 'ngc0628e00'.\n",
    "\n",
    "Здесь я сказал python вывести строку 'SFR' столбца, в котором значение 'Galaxy' точно равно (==) строке 'ngc0628e00'."
   ]
  },
  {
   "cell_type": "code",
   "execution_count": null,
   "metadata": {},
   "outputs": [],
   "source": []
  }
 ],
 "metadata": {
  "anaconda-cloud": {},
  "kernelspec": {
   "display_name": "Python 3 (ipykernel)",
   "language": "python",
   "name": "python3"
  },
  "language_info": {
   "codemirror_mode": {
    "name": "ipython",
    "version": 3
   },
   "file_extension": ".py",
   "mimetype": "text/x-python",
   "name": "python",
   "nbconvert_exporter": "python",
   "pygments_lexer": "ipython3",
   "version": "3.7.6"
  }
 },
 "nbformat": 4,
 "nbformat_minor": 4
}
