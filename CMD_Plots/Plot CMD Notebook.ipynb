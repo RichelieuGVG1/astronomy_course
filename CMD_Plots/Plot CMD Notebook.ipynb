{
 "cells": [
  {
   "cell_type": "markdown",
   "metadata": {},
   "source": [
    "# Galaxy Color-Magnitude Diagrams\n",
    "In this activity, we will work to build a color-magnitude diagram (CMD) for nearby galaxies.  CMDs are often used to classify objects and determine basic properties of different types of galaxies.  \n",
    "Let's start by loading programs to plot the data (matplotlib.pyplot) and read the data (pandas).  We will also load a set of galaxies from the galaxy zoo project in a file you can grab from canvas called 'gzoo_colors.csv'.\n",
    "\n",
    "# Диаграммы ГР (цвета-величины) для галактик\n",
    "В этой работе мы построим диаграмму ГР для близлежащих галактик. ГР часто используются для классификации объектов и определения основных свойств различных типов галактик.  \n",
    "Начнем с загрузки программ для построения диаграммы (matplotlib.pyplot) и чтения данных (pandas).  Мы также загрузим набор галактик из проекта galaxy zoo в файл, который вы можете взять с canvas под названием 'gzoo_colors.csv'."
   ]
  },
  {
   "cell_type": "code",
   "execution_count": 1,
   "metadata": {
    "ExecuteTime": {
     "end_time": "2023-02-21T17:46:36.847464Z",
     "start_time": "2023-02-21T17:46:36.165144Z"
    }
   },
   "outputs": [],
   "source": [
    "import matplotlib.pyplot as plt\n",
    "import pandas as pd\n",
    "gzoo = pd.read_csv('gzoo_colors.csv')"
   ]
  },
  {
   "cell_type": "markdown",
   "metadata": {},
   "source": [
    "In the code above, you have loaded two python packages.  matplotlib.pyplot is a great tool for making graphs that we will use throughout the semester.  pandas is a package for reading data.  There are other tools for reading text files (like numpy).  I like to use pandas because it is able to deal with files that have both words and numbers.  Some programs will be grumpy if you give it a file that has data listed using multiple datatypes, but pandas will do this nicely!  pandas also lets you pull data from a file based on the headers listed in the file.  For example, if I wanted a list of all the RA values of the galaxy zoo data set, I could make a new list using the code:\n",
    "gzoo_ra = gzoo['RA']\n",
    "where RA is the name of the column in the gzoo_colors spreadsheet.  \n",
    "\n",
    "В приведенном выше коде вы загрузили два пакета python. matplotlib.pyplot - это отличный инструмент для построения графиков, который мы будем использовать на протяжении всего семестра. pandas - это пакет для чтения данных.  Существуют и другие инструменты для чтения текстовых файлов (например, numpy).  Мне нравится использовать pandas, потому что он может работать с файлами, содержащими как слова, так и числа.  Некоторые программы будут недовольны, если вы дадите им файл, в котором данные перечислены с использованием нескольких типов данных, но pandas справится с этим! pandas также позволяет извлекать данные из файла на основе заголовков, перечисленных в файле.  Например, если мне нужен список всех значений RA из набора данных галактического зоопарка, я могу создать новый список, используя следующий код:\n",
    "gzoo_ra = gzoo['RA']\n",
    "где RA - это название колонки в электронной таблице gzoo_colors.  "
   ]
  },
  {
   "cell_type": "markdown",
   "metadata": {},
   "source": [
    "To understand better how galaxies are different, we will seperate ellipticals and spirals in this dataset.  We can do this by telling python we want a new dataset for all the rows in our galaxy zoo dataset that have the 'SPIRAL' column set to 1.0 (meaning it is a spiral).  I've done this in the code below\n",
    "\n",
    "Чтобы лучше понять, чем отличаются галактики, мы разделим эллиптические и спиральные галактики в этом наборе данных.  Мы можем сделать это, сказав python, что хотим создать новый набор данных для всех строк нашего набора данных galaxy zoo, в которых столбец 'SPIRAL' имеет значение 1.0 (что означает, что это спираль).  Я сделал это в приведенном ниже коде"
   ]
  },
  {
   "cell_type": "code",
   "execution_count": 5,
   "metadata": {
    "ExecuteTime": {
     "end_time": "2023-02-21T17:47:41.465005Z",
     "start_time": "2023-02-21T17:47:41.452236Z"
    }
   },
   "outputs": [
    {
     "data": {
      "text/html": [
       "<div>\n",
       "<style scoped>\n",
       "    .dataframe tbody tr th:only-of-type {\n",
       "        vertical-align: middle;\n",
       "    }\n",
       "\n",
       "    .dataframe tbody tr th {\n",
       "        vertical-align: top;\n",
       "    }\n",
       "\n",
       "    .dataframe thead th {\n",
       "        text-align: right;\n",
       "    }\n",
       "</style>\n",
       "<table border=\"1\" class=\"dataframe\">\n",
       "  <thead>\n",
       "    <tr style=\"text-align: right;\">\n",
       "      <th></th>\n",
       "      <th>RA</th>\n",
       "      <th>DEC</th>\n",
       "      <th>Z</th>\n",
       "      <th>NVOTE</th>\n",
       "      <th>SPIRAL</th>\n",
       "      <th>ELLIPTICAL</th>\n",
       "      <th>UNCERTAIN</th>\n",
       "      <th>gminusi</th>\n",
       "      <th>vhelio</th>\n",
       "      <th>absmagi</th>\n",
       "    </tr>\n",
       "  </thead>\n",
       "  <tbody>\n",
       "    <tr>\n",
       "      <th>0</th>\n",
       "      <td>147.329505</td>\n",
       "      <td>0.028895</td>\n",
       "      <td>0.048086</td>\n",
       "      <td>25</td>\n",
       "      <td>1</td>\n",
       "      <td>0</td>\n",
       "      <td>0</td>\n",
       "      <td>1.212299</td>\n",
       "      <td>14415.762196</td>\n",
       "      <td>-21.261998</td>\n",
       "    </tr>\n",
       "    <tr>\n",
       "      <th>1</th>\n",
       "      <td>146.323172</td>\n",
       "      <td>-0.029952</td>\n",
       "      <td>0.021709</td>\n",
       "      <td>34</td>\n",
       "      <td>0</td>\n",
       "      <td>0</td>\n",
       "      <td>1</td>\n",
       "      <td>0.450300</td>\n",
       "      <td>6508.135424</td>\n",
       "      <td>-18.274793</td>\n",
       "    </tr>\n",
       "    <tr>\n",
       "      <th>2</th>\n",
       "      <td>146.300911</td>\n",
       "      <td>0.035489</td>\n",
       "      <td>0.021758</td>\n",
       "      <td>52</td>\n",
       "      <td>0</td>\n",
       "      <td>0</td>\n",
       "      <td>1</td>\n",
       "      <td>0.873799</td>\n",
       "      <td>6522.885215</td>\n",
       "      <td>-19.087308</td>\n",
       "    </tr>\n",
       "    <tr>\n",
       "      <th>3</th>\n",
       "      <td>146.329665</td>\n",
       "      <td>-0.306222</td>\n",
       "      <td>0.036452</td>\n",
       "      <td>59</td>\n",
       "      <td>0</td>\n",
       "      <td>0</td>\n",
       "      <td>1</td>\n",
       "      <td>0.994801</td>\n",
       "      <td>10927.976252</td>\n",
       "      <td>-19.611009</td>\n",
       "    </tr>\n",
       "    <tr>\n",
       "      <th>4</th>\n",
       "      <td>146.057311</td>\n",
       "      <td>-0.097027</td>\n",
       "      <td>0.036730</td>\n",
       "      <td>60</td>\n",
       "      <td>0</td>\n",
       "      <td>1</td>\n",
       "      <td>0</td>\n",
       "      <td>1.419101</td>\n",
       "      <td>11011.468463</td>\n",
       "      <td>-20.655536</td>\n",
       "    </tr>\n",
       "    <tr>\n",
       "      <th>...</th>\n",
       "      <td>...</td>\n",
       "      <td>...</td>\n",
       "      <td>...</td>\n",
       "      <td>...</td>\n",
       "      <td>...</td>\n",
       "      <td>...</td>\n",
       "      <td>...</td>\n",
       "      <td>...</td>\n",
       "      <td>...</td>\n",
       "      <td>...</td>\n",
       "    </tr>\n",
       "    <tr>\n",
       "      <th>32123</th>\n",
       "      <td>198.994002</td>\n",
       "      <td>1.448322</td>\n",
       "      <td>0.053900</td>\n",
       "      <td>32</td>\n",
       "      <td>0</td>\n",
       "      <td>1</td>\n",
       "      <td>0</td>\n",
       "      <td>1.689600</td>\n",
       "      <td>16158.815750</td>\n",
       "      <td>-20.661358</td>\n",
       "    </tr>\n",
       "    <tr>\n",
       "      <th>32124</th>\n",
       "      <td>199.538837</td>\n",
       "      <td>0.222813</td>\n",
       "      <td>0.031491</td>\n",
       "      <td>38</td>\n",
       "      <td>0</td>\n",
       "      <td>0</td>\n",
       "      <td>1</td>\n",
       "      <td>0.600600</td>\n",
       "      <td>9440.825576</td>\n",
       "      <td>-20.618860</td>\n",
       "    </tr>\n",
       "    <tr>\n",
       "      <th>32125</th>\n",
       "      <td>208.122689</td>\n",
       "      <td>1.915619</td>\n",
       "      <td>0.032600</td>\n",
       "      <td>25</td>\n",
       "      <td>0</td>\n",
       "      <td>0</td>\n",
       "      <td>1</td>\n",
       "      <td>2.016100</td>\n",
       "      <td>9773.235500</td>\n",
       "      <td>-19.932301</td>\n",
       "    </tr>\n",
       "    <tr>\n",
       "      <th>32126</th>\n",
       "      <td>204.977039</td>\n",
       "      <td>2.122185</td>\n",
       "      <td>0.023074</td>\n",
       "      <td>29</td>\n",
       "      <td>0</td>\n",
       "      <td>0</td>\n",
       "      <td>1</td>\n",
       "      <td>0.601901</td>\n",
       "      <td>6917.322207</td>\n",
       "      <td>-19.423800</td>\n",
       "    </tr>\n",
       "    <tr>\n",
       "      <th>32127</th>\n",
       "      <td>214.838729</td>\n",
       "      <td>-0.205569</td>\n",
       "      <td>0.002200</td>\n",
       "      <td>31</td>\n",
       "      <td>0</td>\n",
       "      <td>0</td>\n",
       "      <td>1</td>\n",
       "      <td>1.215000</td>\n",
       "      <td>659.543500</td>\n",
       "      <td>-13.802328</td>\n",
       "    </tr>\n",
       "  </tbody>\n",
       "</table>\n",
       "<p>32128 rows × 10 columns</p>\n",
       "</div>"
      ],
      "text/plain": [
       "               RA       DEC         Z  NVOTE  SPIRAL  ELLIPTICAL  UNCERTAIN  \\\n",
       "0      147.329505  0.028895  0.048086     25       1           0          0   \n",
       "1      146.323172 -0.029952  0.021709     34       0           0          1   \n",
       "2      146.300911  0.035489  0.021758     52       0           0          1   \n",
       "3      146.329665 -0.306222  0.036452     59       0           0          1   \n",
       "4      146.057311 -0.097027  0.036730     60       0           1          0   \n",
       "...           ...       ...       ...    ...     ...         ...        ...   \n",
       "32123  198.994002  1.448322  0.053900     32       0           1          0   \n",
       "32124  199.538837  0.222813  0.031491     38       0           0          1   \n",
       "32125  208.122689  1.915619  0.032600     25       0           0          1   \n",
       "32126  204.977039  2.122185  0.023074     29       0           0          1   \n",
       "32127  214.838729 -0.205569  0.002200     31       0           0          1   \n",
       "\n",
       "        gminusi        vhelio    absmagi  \n",
       "0      1.212299  14415.762196 -21.261998  \n",
       "1      0.450300   6508.135424 -18.274793  \n",
       "2      0.873799   6522.885215 -19.087308  \n",
       "3      0.994801  10927.976252 -19.611009  \n",
       "4      1.419101  11011.468463 -20.655536  \n",
       "...         ...           ...        ...  \n",
       "32123  1.689600  16158.815750 -20.661358  \n",
       "32124  0.600600   9440.825576 -20.618860  \n",
       "32125  2.016100   9773.235500 -19.932301  \n",
       "32126  0.601901   6917.322207 -19.423800  \n",
       "32127  1.215000    659.543500 -13.802328  \n",
       "\n",
       "[32128 rows x 10 columns]"
      ]
     },
     "execution_count": 5,
     "metadata": {},
     "output_type": "execute_result"
    }
   ],
   "source": [
    "spirals = gzoo[gzoo['SPIRAL']==1.0]\n",
    "es = gzoo[gzoo['ELLIPTICAL']==1.0]\n",
    "\n",
    "gzoo"
   ]
  },
  {
   "cell_type": "markdown",
   "metadata": {},
   "source": [
    "Now we can plot the SDSS $g - i$ colors against the $i$ magnitude.  We will use matplotlib.pyplot, which we loaded as plt.  The scatter function in pyplot makes a scatter plot of the data. \n",
    "plt.scatter(x, y) would be enough to create a scatter plot of x vs y, I've just added some code to tell it what colors and symbols I want to use.\n",
    "\n",
    "I've also added labels on the x- and y-axis using the xlabel and ylabel functions, and I've changed the limits on the x- and y-axis using the xlim/ylim functions.  I flipped the values on the x-axis (lower numbers to the right) by setting -14 to be my lower value on the xlim function.\n",
    "\n",
    "Why did I flip the x-axis?  Which galaxies are redder?  What do you notice?\n",
    "\n",
    "Теперь мы можем построить график цветов SDSS $g - i$ против величины $i$.  Мы будем использовать matplotlib.pyplot, который мы загрузили как plt. Функция scatter в pyplot строит график разброса данных. \n",
    "plt.scatter(x, y) будет достаточно для создания диаграммы разброса x vs y, я просто добавил некоторый код, чтобы указать ему, какие цвета и символы я хочу использовать.\n",
    "\n",
    "Я также добавил метки на оси x и y с помощью функций xlabel и ylabel и изменил границы на осях x и y с помощью функций xlim/ylim.  Я перевернул значения на оси x (нижние числа справа), установив -14 в качестве нижнего значения в функции xlim.\n",
    "\n",
    "Почему я перевернул ось x?  Какие галактики краснее?  Что вы заметили?"
   ]
  },
  {
   "cell_type": "code",
   "execution_count": 44,
   "metadata": {
    "ExecuteTime": {
     "end_time": "2023-02-21T18:00:01.665234Z",
     "start_time": "2023-02-21T18:00:01.494627Z"
    },
    "scrolled": false
   },
   "outputs": [
    {
     "data": {
      "image/png": "[encoded data removed]",
      "text/plain": [
       "<Figure size 640x480 with 2 Axes>"
      ]
     },
     "metadata": {},
     "output_type": "display_data"
    }
   ],
   "source": [
    "# plt.scatter(es['gminusi'],es['absmagi'], color='red', marker='x', alpha=0.1)\n",
    "# plt.scatter(spirals['gminusi'],spirals['absmagi'], color='cyan', marker='x', alpha = 0.1)\n",
    "\n",
    "es1=es[(es['gminusi']>-1) * (es['gminusi']<2)]\n",
    "es1=es1[(es1['absmagi']>-24) * (es1['absmagi']<-14)]\n",
    "\n",
    "plt.hist2d(es1['gminusi'],es1['absmagi'], bins=50)\n",
    "plt.colorbar()\n",
    "# plt.scatter(es1['gminusi'],es1['absmagi'], color='red', marker='x', alpha=0.1)\n",
    "plt.xlabel('$i$')\n",
    "plt.ylabel('$g-i$')\n",
    "# plt.ylim(-24, -14)\n",
    "# plt.xlim(-1.0, 2.0)\n",
    "plt.show()"
   ]
  },
  {
   "cell_type": "code",
   "execution_count": 27,
   "metadata": {
    "ExecuteTime": {
     "end_time": "2023-02-21T17:55:33.072558Z",
     "start_time": "2023-02-21T17:55:33.067947Z"
    }
   },
   "outputs": [
    {
     "data": {
      "text/plain": [
       "4        False\n",
       "8        False\n",
       "9        False\n",
       "12       False\n",
       "13       False\n",
       "         ...  \n",
       "31985    False\n",
       "32078    False\n",
       "32116    False\n",
       "32119    False\n",
       "32123    False\n",
       "Name: gminusi, Length: 5202, dtype: bool"
      ]
     },
     "execution_count": 27,
     "metadata": {},
     "output_type": "execute_result"
    }
   ],
   "source": [
    "(es['gminusi']>-24) *(es['gminusi']<-14)"
   ]
  },
  {
   "cell_type": "markdown",
   "metadata": {},
   "source": [
    "Compare this plot to Figure 3 of Gavazzi+2018 that can be found here: https://arxiv.org/abs/1003.3795\n",
    "What do you notice?  What is similar/different?  \n",
    "\n",
    "Сравните этот график с рисунком 3 из Gavazzi+2018, который можно найти здесь: https://arxiv.org/abs/1003.3795.\n",
    "Что вы заметили?  Что похоже/различно?  "
   ]
  },
  {
   "cell_type": "markdown",
   "metadata": {},
   "source": [
    "#  Your Turn!\n",
    "Now, use the dwarf_data.txt and ulirg_data.txt to add the Herschel Dwarf Galaxies and the GOALS Ultra-Luminous Infrared Galaxies to our Galaxy CMD.  Note that I have not calculated colors or absolute magnitudes for these datatsets, so you will need to use the distance modulous to find the $i$ band magnitude!  \n",
    "\n",
    "# Ваша очередь!\n",
    "Теперь используйте dwarf_data.txt и ulirg_data.txt, чтобы добавить карликовые галактики Herschel и сверхсветящиеся инфракрасные галактики GOALS к нашей CMD галактики.  Обратите внимание, что я не рассчитал цвета или абсолютные магнитуды для этих наборов данных, поэтому вам придется использовать модель расстояния, чтобы найти магнитуду полосы $i$!  "
   ]
  },
  {
   "cell_type": "markdown",
   "metadata": {},
   "source": [
    "* A few other notes:  \n",
    "\n",
    "* Несколько других заметок:  "
   ]
  },
  {
   "cell_type": "markdown",
   "metadata": {},
   "source": [
    "1. You may want to adjust the x- and y- limits on the axis to fully include the new data.  Don't worry about getting all the outliers in\n",
    "2. Remember, the distance modulus is $m-M = -5+5log_{10}(d) = $d_mod in the text files.  We need the absolute magnitude to make these plots, and I have given you the apparent magnitudes.\n",
    "3. Make sure you change the colors/symbols for the dwarfs and ULIRGs so you can tell them apart!  Consider adding a legend to your plot! You can read more about how to do this here: https://matplotlib.org/3.3.1/api/_as_gen/matplotlib.pyplot.legend.html\n",
    "4. We can use the same method to load the data, but since I made the dwarf and ulirg file slightly differently.  This means we need to tell pandas to look for white space to indicate a new column.  We can do this using the code: pd.read_csv('filename', delim_whitespace=True)\n",
    "5. You can open the txt files to read the column headers, but the ones you will need are:\n",
    "\n",
    "$i$-band apparent magnitude: 'Mag_i'\n",
    "\n",
    "$g$-band apparent magnitude: 'Mag_g'\n",
    "\n",
    "distance modulus: 'd_mod'\n",
    "\n",
    "1. Возможно, вы захотите скорректировать границы x- и y- на оси, чтобы полностью включить новые данные.  Не беспокойтесь о том, чтобы включить все отклонения.\n",
    "2. Помните, что модуль расстояния равен $m-M = -5+5log_{10}(d) = $d_mod в текстовых файлах.  Нам нужна абсолютная величина, чтобы построить эти графики, и я дал вам кажущиеся величины.\n",
    "3. Обязательно измените цвета/символы для карликов и ULIRG, чтобы вы могли их различать!  Подумайте о добавлении легенды к вашему графику! Подробнее о том, как это сделать, вы можете прочитать здесь: https://matplotlib.org/3.3.1/api/_as_gen/matplotlib.pyplot.legend.html.\n",
    "4. Мы можем использовать тот же метод для загрузки данных, но поскольку я создал файл карлика и файл ulirg немного по-другому.  Это означает, что нам нужно сказать pandas искать белое пространство для обозначения нового столбца.  Мы можем сделать это с помощью кода: pd.read_csv('filename', delim_whitespace=True)\n",
    "5. Вы можете открыть txt-файлы, чтобы прочитать заголовки колонок, но вам понадобятся следующие:\n",
    "\n",
    "$i$-полоса видимой величины: 'Mag_i'\n",
    "\n",
    "$g$-полоса видимой величины: 'Mag_g'\n",
    "\n",
    "модуль расстояния: 'd_mod'"
   ]
  },
  {
   "cell_type": "markdown",
   "metadata": {},
   "source": [
    "Once you have made your figure, take a few minutes to reflect on what you have found.  How are ULIRGs and Dwarfs similar/different from the spirals and ellipticals we plotted earlier?  Do the positions on the CMD make sense?  How might you use your CMD to determine properties of a galaxy?\n",
    "\n",
    "После того, как вы сделали свой рисунок, потратьте несколько минут на размышления о том, что вы нашли.  Чем ULIRG и карлики похожи/отличаются от спиралей и эллипсов, которые мы построили ранее?  Имеет ли смысл расположение на КИМ?  Как вы можете использовать CMD для определения свойств галактики?"
   ]
  },
  {
   "cell_type": "markdown",
   "metadata": {},
   "source": [
    "Finally, look up the $g$ and $i$ band magnitudes for your galaxy using SIMBAD: http://simbad.u-strasbg.fr/simbad/ \n",
    "\n",
    "Add your galaxy to your plot with a star marker (marker='*').  Does it fall where you would expect?\n",
    "\n",
    "Наконец, найдите магнитуды $g$ и $i$ для вашей галактики с помощью SIMBAD: http://simbad.u-strasbg.fr/simbad/. \n",
    "\n",
    "Добавьте свою галактику на график с помощью звездного маркера (marker='*').  Падает ли она туда, куда вы ожидали?\n"
   ]
  },
  {
   "cell_type": "markdown",
   "metadata": {},
   "source": []
  },
  {
   "cell_type": "code",
   "execution_count": null,
   "metadata": {},
   "outputs": [],
   "source": []
  },
  {
   "cell_type": "code",
   "execution_count": null,
   "metadata": {},
   "outputs": [],
   "source": []
  }
 ],
 "metadata": {
  "anaconda-cloud": {},
  "kernelspec": {
   "display_name": "Python 3 (ipykernel)",
   "language": "python",
   "name": "python3"
  },
  "language_info": {
   "codemirror_mode": {
    "name": "ipython",
    "version": 3
   },
   "file_extension": ".py",
   "mimetype": "text/x-python",
   "name": "python",
   "nbconvert_exporter": "python",
   "pygments_lexer": "ipython3",
   "version": "3.7.6"
  }
 },
 "nbformat": 4,
 "nbformat_minor": 4
}
